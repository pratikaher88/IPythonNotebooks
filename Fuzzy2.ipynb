{
 "cells": [
  {
   "cell_type": "code",
   "execution_count": 15,
   "metadata": {
    "collapsed": false
   },
   "outputs": [],
   "source": [
    "import pandas as pd\n",
    "xls_file = pd.ExcelFile('/Users/pratikaher/PycharmProjects/Fuzzy/hospital_data.xls')\n",
    "patient_info=xls_file.parse('Registration')\n",
    "df = xls_file.parse('Policies')\n",
    "Emergency=False"
   ]
  },
  {
   "cell_type": "code",
   "execution_count": 14,
   "metadata": {
    "collapsed": false
   },
   "outputs": [
    {
     "data": {
      "text/plain": [
       "[1001]"
      ]
     },
     "execution_count": 14,
     "metadata": {},
     "output_type": "execute_result"
    }
   ],
   "source": [
    "patient_info['Patient id'].tolist()"
   ]
  },
  {
   "cell_type": "code",
   "execution_count": 61,
   "metadata": {
    "collapsed": false
   },
   "outputs": [
    {
     "name": "stdout",
     "output_type": "stream",
     "text": [
      "1001 1001(Male)\n",
      "1001 nan\n",
      "1001 nan\n",
      "1001 nan\n",
      "1001 nan\n",
      "1001 nan\n",
      "1001 nan\n",
      "1001 nan\n",
      "1001 nan\n",
      "1001 nan\n",
      "1001 nan\n"
     ]
    }
   ],
   "source": [
    "for value in patient_info['Patient id'].tolist():\n",
    "    for new_value in df['Patient id'].tolist():  \n",
    "        print(str(value),str(new_value))\n",
    "        if str(value).find(str(new_value)) !=-1:\n",
    "            print(patient_info.loc[patient_info.set_index('Patient id').index.get_loc(value), 'Emergency'])"
   ]
  },
  {
   "cell_type": "code",
   "execution_count": null,
   "metadata": {
    "collapsed": true
   },
   "outputs": [],
   "source": []
  }
 ],
 "metadata": {
  "anaconda-cloud": {},
  "kernelspec": {
   "display_name": "Python [default]",
   "language": "python",
   "name": "python3"
  },
  "language_info": {
   "codemirror_mode": {
    "name": "ipython",
    "version": 3
   },
   "file_extension": ".py",
   "mimetype": "text/x-python",
   "name": "python",
   "nbconvert_exporter": "python",
   "pygments_lexer": "ipython3",
   "version": "3.5.2"
  }
 },
 "nbformat": 4,
 "nbformat_minor": 2
}

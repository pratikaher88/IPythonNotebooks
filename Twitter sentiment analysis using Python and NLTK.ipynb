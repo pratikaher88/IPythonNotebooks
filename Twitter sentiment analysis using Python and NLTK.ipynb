{
 "cells": [
  {
   "cell_type": "code",
   "execution_count": 1,
   "metadata": {
    "collapsed": true
   },
   "outputs": [],
   "source": [
    "pos_tweets = [('I love this car', 'positive'),\n",
    "              ('This view is amazing', 'positive'),\n",
    "              ('I feel great this morning', 'positive'),\n",
    "              ('I am so excited about the concert', 'positive'),\n",
    "              ('He is my best friend', 'positive')]\n",
    "neg_tweets = [('I do not like this car', 'negative'),\n",
    "              ('This view is horrible', 'negative'),\n",
    "              ('I feel tired this morning', 'negative'),\n",
    "              ('I am not looking forward to the concert', 'negative'),\n",
    "              ('He is my enemy', 'negative')]"
   ]
  },
  {
   "cell_type": "code",
   "execution_count": 2,
   "metadata": {
    "collapsed": true
   },
   "outputs": [],
   "source": [
    "tweets = []\n",
    "for (words, sentiment) in pos_tweets + neg_tweets:\n",
    "    words_filtered = [e.lower() for e in words.split() if len(e) >= 3] \n",
    "    tweets.append((words_filtered, sentiment))"
   ]
  },
  {
   "cell_type": "code",
   "execution_count": 3,
   "metadata": {
    "collapsed": false
   },
   "outputs": [
    {
     "data": {
      "text/plain": [
       "[(['love', 'this', 'car'], 'positive'),\n",
       " (['this', 'view', 'amazing'], 'positive'),\n",
       " (['feel', 'great', 'this', 'morning'], 'positive'),\n",
       " (['excited', 'about', 'the', 'concert'], 'positive'),\n",
       " (['best', 'friend'], 'positive'),\n",
       " (['not', 'like', 'this', 'car'], 'negative'),\n",
       " (['this', 'view', 'horrible'], 'negative'),\n",
       " (['feel', 'tired', 'this', 'morning'], 'negative'),\n",
       " (['not', 'looking', 'forward', 'the', 'concert'], 'negative'),\n",
       " (['enemy'], 'negative')]"
      ]
     },
     "execution_count": 3,
     "metadata": {},
     "output_type": "execute_result"
    }
   ],
   "source": [
    "tweets"
   ]
  },
  {
   "cell_type": "code",
   "execution_count": 4,
   "metadata": {
    "collapsed": true
   },
   "outputs": [],
   "source": [
    "test_tweets = [\n",
    "    (['feel', 'happy', 'this', 'morning'], 'positive'),\n",
    "    (['larry', 'friend'], 'positive'),\n",
    "    (['not', 'like', 'that', 'man'], 'negative'),\n",
    "    (['house', 'not', 'great'], 'negative'),\n",
    "    (['your', 'song', 'annoying'], 'negative')]"
   ]
  },
  {
   "cell_type": "code",
   "execution_count": 14,
   "metadata": {
    "collapsed": true
   },
   "outputs": [],
   "source": [
    "import nltk\n",
    "def get_words_in_tweets(tweets):\n",
    "    all_words = []\n",
    "    for (words, sentiment) in tweets:\n",
    "      all_words.extend(words)\n",
    "    return all_words\n",
    "\n",
    "def get_word_features(wordlist):\n",
    "    wordlist = nltk.FreqDist(wordlist)\n",
    "    word_features = wordlist.keys()\n",
    "    return word_features"
   ]
  },
  {
   "cell_type": "code",
   "execution_count": 15,
   "metadata": {
    "collapsed": false
   },
   "outputs": [],
   "source": [
    "word_features = get_word_features(get_words_in_tweets(tweets))"
   ]
  },
  {
   "cell_type": "code",
   "execution_count": 16,
   "metadata": {
    "collapsed": false
   },
   "outputs": [
    {
     "data": {
      "text/plain": [
       "dict_keys(['excited', 'the', 'horrible', 'enemy', 'not', 'friend', 'morning', 'about', 'best', 'concert', 'great', 'tired', 'this', 'car', 'feel', 'forward', 'like', 'looking', 'amazing', 'view', 'love'])"
      ]
     },
     "execution_count": 16,
     "metadata": {},
     "output_type": "execute_result"
    }
   ],
   "source": [
    " word_features"
   ]
  },
  {
   "cell_type": "code",
   "execution_count": 17,
   "metadata": {
    "collapsed": true
   },
   "outputs": [],
   "source": [
    "def extract_features(document):\n",
    "    document_words = set(document)\n",
    "    features = {}\n",
    "    for word in word_features:\n",
    "        features['contains(%s)' % word] = (word in document_words)\n",
    "    return features"
   ]
  },
  {
   "cell_type": "code",
   "execution_count": 18,
   "metadata": {
    "collapsed": true
   },
   "outputs": [],
   "source": [
    "training_set = nltk.classify.apply_features(extract_features, tweets)"
   ]
  },
  {
   "cell_type": "code",
   "execution_count": 19,
   "metadata": {
    "collapsed": false
   },
   "outputs": [
    {
     "data": {
      "text/plain": [
       "[({'contains(amazing)': False, 'contains(car)': True, 'contains(about)': False, 'contains(love)': True, 'contains(not)': False, 'contains(forward)': False, 'contains(horrible)': False, 'contains(view)': False, 'contains(feel)': False, 'contains(like)': False, 'contains(tired)': False, 'contains(excited)': False, 'contains(enemy)': False, 'contains(the)': False, 'contains(best)': False, 'contains(this)': True, 'contains(friend)': False, 'contains(great)': False, 'contains(looking)': False, 'contains(concert)': False, 'contains(morning)': False}, 'positive'), ({'contains(amazing)': True, 'contains(car)': False, 'contains(about)': False, 'contains(love)': False, 'contains(not)': False, 'contains(forward)': False, 'contains(horrible)': False, 'contains(view)': True, 'contains(feel)': False, 'contains(like)': False, 'contains(tired)': False, 'contains(excited)': False, 'contains(enemy)': False, 'contains(the)': False, 'contains(best)': False, 'contains(this)': True, 'contains(friend)': False, 'contains(great)': False, 'contains(looking)': False, 'contains(concert)': False, 'contains(morning)': False}, 'positive'), ...]"
      ]
     },
     "execution_count": 19,
     "metadata": {},
     "output_type": "execute_result"
    }
   ],
   "source": [
    "training_set"
   ]
  },
  {
   "cell_type": "code",
   "execution_count": 20,
   "metadata": {
    "collapsed": true
   },
   "outputs": [],
   "source": [
    "classifier = nltk.NaiveBayesClassifier.train(training_set)"
   ]
  },
  {
   "cell_type": "code",
   "execution_count": 21,
   "metadata": {
    "collapsed": false
   },
   "outputs": [
    {
     "name": "stdout",
     "output_type": "stream",
     "text": [
      "Most Informative Features\n",
      "           contains(not) = False          positi : negati =      1.6 : 1.0\n",
      "       contains(amazing) = False          negati : positi =      1.2 : 1.0\n",
      "         contains(enemy) = False          positi : negati =      1.2 : 1.0\n",
      "       contains(looking) = False          positi : negati =      1.2 : 1.0\n",
      "       contains(excited) = False          negati : positi =      1.2 : 1.0\n",
      "         contains(tired) = False          positi : negati =      1.2 : 1.0\n",
      "          contains(like) = False          positi : negati =      1.2 : 1.0\n",
      "         contains(about) = False          negati : positi =      1.2 : 1.0\n",
      "          contains(love) = False          negati : positi =      1.2 : 1.0\n",
      "        contains(friend) = False          negati : positi =      1.2 : 1.0\n",
      "      contains(horrible) = False          positi : negati =      1.2 : 1.0\n",
      "          contains(best) = False          negati : positi =      1.2 : 1.0\n",
      "       contains(forward) = False          positi : negati =      1.2 : 1.0\n",
      "         contains(great) = False          negati : positi =      1.2 : 1.0\n",
      "          contains(feel) = False          negati : positi =      1.0 : 1.0\n",
      "       contains(concert) = True           negati : positi =      1.0 : 1.0\n",
      "          contains(view) = False          negati : positi =      1.0 : 1.0\n",
      "           contains(car) = False          negati : positi =      1.0 : 1.0\n",
      "       contains(concert) = False          negati : positi =      1.0 : 1.0\n",
      "           contains(the) = False          negati : positi =      1.0 : 1.0\n",
      "       contains(morning) = True           negati : positi =      1.0 : 1.0\n",
      "          contains(this) = False          negati : positi =      1.0 : 1.0\n",
      "None\n"
     ]
    }
   ],
   "source": [
    "print(classifier.show_most_informative_features(32))"
   ]
  },
  {
   "cell_type": "code",
   "execution_count": 28,
   "metadata": {
    "collapsed": false
   },
   "outputs": [
    {
     "name": "stdout",
     "output_type": "stream",
     "text": [
      "negative\n"
     ]
    }
   ],
   "source": [
    "tweet = 'The food was not great'\n",
    "print(classifier.classify(extract_features(tweet.split())))"
   ]
  },
  {
   "cell_type": "code",
   "execution_count": null,
   "metadata": {
    "collapsed": true
   },
   "outputs": [],
   "source": []
  }
 ],
 "metadata": {
  "anaconda-cloud": {},
  "kernelspec": {
   "display_name": "Python [default]",
   "language": "python",
   "name": "python3"
  },
  "language_info": {
   "codemirror_mode": {
    "name": "ipython",
    "version": 3
   },
   "file_extension": ".py",
   "mimetype": "text/x-python",
   "name": "python",
   "nbconvert_exporter": "python",
   "pygments_lexer": "ipython3",
   "version": "3.5.2"
  }
 },
 "nbformat": 4,
 "nbformat_minor": 2
}

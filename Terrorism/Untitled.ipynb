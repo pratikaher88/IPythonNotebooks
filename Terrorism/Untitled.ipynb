{
 "cells": [
  {
   "cell_type": "code",
   "execution_count": 2,
   "metadata": {
    "collapsed": false
   },
   "outputs": [],
   "source": [
    "import numpy as np # linear algebra\n",
    "import pandas as pd # data processing, CSV file I/O (e.g. pd.read_csv)\n",
    "import matplotlib.pyplot as plt\n",
    "import seaborn as sns"
   ]
  },
  {
   "cell_type": "code",
   "execution_count": 3,
   "metadata": {
    "collapsed": true
   },
   "outputs": [],
   "source": [
    "data = pd.read_csv('appendix.csv')"
   ]
  },
  {
   "cell_type": "code",
   "execution_count": 23,
   "metadata": {
    "collapsed": false
   },
   "outputs": [
    {
     "data": {
      "text/html": [
       "<div>\n",
       "<style>\n",
       "    .dataframe thead tr:only-child th {\n",
       "        text-align: right;\n",
       "    }\n",
       "\n",
       "    .dataframe thead th {\n",
       "        text-align: left;\n",
       "    }\n",
       "\n",
       "    .dataframe tbody tr th {\n",
       "        vertical-align: top;\n",
       "    }\n",
       "</style>\n",
       "<table border=\"1\" class=\"dataframe\">\n",
       "  <thead>\n",
       "    <tr style=\"text-align: right;\">\n",
       "      <th></th>\n",
       "      <th>Institution</th>\n",
       "      <th>Course Number</th>\n",
       "      <th>Launch Date</th>\n",
       "      <th>Course Title</th>\n",
       "      <th>Instructors</th>\n",
       "      <th>Course Subject</th>\n",
       "      <th>Year</th>\n",
       "      <th>Honor Code Certificates</th>\n",
       "      <th>Participants (Course Content Accessed)</th>\n",
       "      <th>Audited (&gt; 50% Course Content Accessed)</th>\n",
       "      <th>...</th>\n",
       "      <th>% Certified of &gt; 50% Course Content Accessed</th>\n",
       "      <th>% Played Video</th>\n",
       "      <th>% Posted in Forum</th>\n",
       "      <th>% Grade Higher Than Zero</th>\n",
       "      <th>Total Course Hours (Thousands)</th>\n",
       "      <th>Median Hours for Certification</th>\n",
       "      <th>Median Age</th>\n",
       "      <th>% Male</th>\n",
       "      <th>% Female</th>\n",
       "      <th>% Bachelor's Degree or Higher</th>\n",
       "    </tr>\n",
       "  </thead>\n",
       "  <tbody>\n",
       "    <tr>\n",
       "      <th>0</th>\n",
       "      <td>MITx</td>\n",
       "      <td>6.002x</td>\n",
       "      <td>09/05/2012</td>\n",
       "      <td>Circuits and Electronics</td>\n",
       "      <td>Khurram Afridi</td>\n",
       "      <td>Science, Technology, Engineering, and Mathematics</td>\n",
       "      <td>1</td>\n",
       "      <td>1</td>\n",
       "      <td>36105</td>\n",
       "      <td>5431</td>\n",
       "      <td>...</td>\n",
       "      <td>54.98</td>\n",
       "      <td>83.2</td>\n",
       "      <td>8.17</td>\n",
       "      <td>28.97</td>\n",
       "      <td>418.94</td>\n",
       "      <td>64.45</td>\n",
       "      <td>26.0</td>\n",
       "      <td>88.28</td>\n",
       "      <td>11.72</td>\n",
       "      <td>60.68</td>\n",
       "    </tr>\n",
       "    <tr>\n",
       "      <th>1</th>\n",
       "      <td>MITx</td>\n",
       "      <td>6.00x</td>\n",
       "      <td>09/26/2012</td>\n",
       "      <td>Introduction to Computer Science and Programming</td>\n",
       "      <td>Eric Grimson, John Guttag, Chris Terman</td>\n",
       "      <td>Computer Science</td>\n",
       "      <td>1</td>\n",
       "      <td>1</td>\n",
       "      <td>62709</td>\n",
       "      <td>8949</td>\n",
       "      <td>...</td>\n",
       "      <td>64.05</td>\n",
       "      <td>89.14</td>\n",
       "      <td>14.38</td>\n",
       "      <td>39.50</td>\n",
       "      <td>884.04</td>\n",
       "      <td>78.53</td>\n",
       "      <td>28.0</td>\n",
       "      <td>83.50</td>\n",
       "      <td>16.50</td>\n",
       "      <td>63.04</td>\n",
       "    </tr>\n",
       "    <tr>\n",
       "      <th>2</th>\n",
       "      <td>MITx</td>\n",
       "      <td>3.091x</td>\n",
       "      <td>10/09/2012</td>\n",
       "      <td>Introduction to Solid State Chemistry</td>\n",
       "      <td>Michael Cima</td>\n",
       "      <td>Science, Technology, Engineering, and Mathematics</td>\n",
       "      <td>1</td>\n",
       "      <td>1</td>\n",
       "      <td>16663</td>\n",
       "      <td>2855</td>\n",
       "      <td>...</td>\n",
       "      <td>72.85</td>\n",
       "      <td>87.49</td>\n",
       "      <td>14.42</td>\n",
       "      <td>34.89</td>\n",
       "      <td>227.55</td>\n",
       "      <td>61.28</td>\n",
       "      <td>27.0</td>\n",
       "      <td>70.32</td>\n",
       "      <td>29.68</td>\n",
       "      <td>58.76</td>\n",
       "    </tr>\n",
       "    <tr>\n",
       "      <th>3</th>\n",
       "      <td>HarvardX</td>\n",
       "      <td>CS50x</td>\n",
       "      <td>10/15/2012</td>\n",
       "      <td>Introduction to Computer Science</td>\n",
       "      <td>David Malan, Nate Hardison, Rob Bowden, Tommy ...</td>\n",
       "      <td>Computer Science</td>\n",
       "      <td>1</td>\n",
       "      <td>1</td>\n",
       "      <td>129400</td>\n",
       "      <td>12888</td>\n",
       "      <td>...</td>\n",
       "      <td>11.11</td>\n",
       "      <td>0</td>\n",
       "      <td>0.00</td>\n",
       "      <td>1.11</td>\n",
       "      <td>220.90</td>\n",
       "      <td>0.00</td>\n",
       "      <td>28.0</td>\n",
       "      <td>80.02</td>\n",
       "      <td>19.98</td>\n",
       "      <td>58.78</td>\n",
       "    </tr>\n",
       "    <tr>\n",
       "      <th>4</th>\n",
       "      <td>HarvardX</td>\n",
       "      <td>PH207x</td>\n",
       "      <td>10/15/2012</td>\n",
       "      <td>Health in Numbers: Quantitative Methods in Cli...</td>\n",
       "      <td>Earl Francis Cook, Marcello Pagano</td>\n",
       "      <td>Government, Health, and Social Science</td>\n",
       "      <td>1</td>\n",
       "      <td>1</td>\n",
       "      <td>52521</td>\n",
       "      <td>10729</td>\n",
       "      <td>...</td>\n",
       "      <td>47.12</td>\n",
       "      <td>77.45</td>\n",
       "      <td>15.98</td>\n",
       "      <td>32.52</td>\n",
       "      <td>804.41</td>\n",
       "      <td>76.10</td>\n",
       "      <td>32.0</td>\n",
       "      <td>56.78</td>\n",
       "      <td>43.22</td>\n",
       "      <td>88.33</td>\n",
       "    </tr>\n",
       "  </tbody>\n",
       "</table>\n",
       "<p>5 rows × 23 columns</p>\n",
       "</div>"
      ],
      "text/plain": [
       "  Institution Course Number Launch Date  \\\n",
       "0        MITx        6.002x  09/05/2012   \n",
       "1        MITx         6.00x  09/26/2012   \n",
       "2        MITx        3.091x  10/09/2012   \n",
       "3    HarvardX         CS50x  10/15/2012   \n",
       "4    HarvardX        PH207x  10/15/2012   \n",
       "\n",
       "                                        Course Title  \\\n",
       "0                           Circuits and Electronics   \n",
       "1   Introduction to Computer Science and Programming   \n",
       "2              Introduction to Solid State Chemistry   \n",
       "3                   Introduction to Computer Science   \n",
       "4  Health in Numbers: Quantitative Methods in Cli...   \n",
       "\n",
       "                                         Instructors  \\\n",
       "0                                     Khurram Afridi   \n",
       "1            Eric Grimson, John Guttag, Chris Terman   \n",
       "2                                       Michael Cima   \n",
       "3  David Malan, Nate Hardison, Rob Bowden, Tommy ...   \n",
       "4                 Earl Francis Cook, Marcello Pagano   \n",
       "\n",
       "                                      Course Subject  Year  \\\n",
       "0  Science, Technology, Engineering, and Mathematics     1   \n",
       "1                                   Computer Science     1   \n",
       "2  Science, Technology, Engineering, and Mathematics     1   \n",
       "3                                   Computer Science     1   \n",
       "4             Government, Health, and Social Science     1   \n",
       "\n",
       "   Honor Code Certificates  Participants (Course Content Accessed)  \\\n",
       "0                        1                                   36105   \n",
       "1                        1                                   62709   \n",
       "2                        1                                   16663   \n",
       "3                        1                                  129400   \n",
       "4                        1                                   52521   \n",
       "\n",
       "   Audited (> 50% Course Content Accessed)              ...                \\\n",
       "0                                     5431              ...                 \n",
       "1                                     8949              ...                 \n",
       "2                                     2855              ...                 \n",
       "3                                    12888              ...                 \n",
       "4                                    10729              ...                 \n",
       "\n",
       "   % Certified of > 50% Course Content Accessed  % Played Video  \\\n",
       "0                                         54.98            83.2   \n",
       "1                                         64.05           89.14   \n",
       "2                                         72.85           87.49   \n",
       "3                                         11.11               0   \n",
       "4                                         47.12           77.45   \n",
       "\n",
       "   % Posted in Forum  % Grade Higher Than Zero Total Course Hours (Thousands)  \\\n",
       "0               8.17                     28.97                         418.94   \n",
       "1              14.38                     39.50                         884.04   \n",
       "2              14.42                     34.89                         227.55   \n",
       "3               0.00                      1.11                         220.90   \n",
       "4              15.98                     32.52                         804.41   \n",
       "\n",
       "   Median Hours for Certification  Median Age  % Male  % Female  \\\n",
       "0                           64.45        26.0   88.28     11.72   \n",
       "1                           78.53        28.0   83.50     16.50   \n",
       "2                           61.28        27.0   70.32     29.68   \n",
       "3                            0.00        28.0   80.02     19.98   \n",
       "4                           76.10        32.0   56.78     43.22   \n",
       "\n",
       "   % Bachelor's Degree or Higher  \n",
       "0                          60.68  \n",
       "1                          63.04  \n",
       "2                          58.76  \n",
       "3                          58.78  \n",
       "4                          88.33  \n",
       "\n",
       "[5 rows x 23 columns]"
      ]
     },
     "execution_count": 23,
     "metadata": {},
     "output_type": "execute_result"
    }
   ],
   "source": [
    "data.head()"
   ]
  },
  {
   "cell_type": "code",
   "execution_count": 14,
   "metadata": {
    "collapsed": false
   },
   "outputs": [
    {
     "data": {
      "text/plain": [
       "Index(['Institution', 'Course Number', 'Launch Date', 'Course Title',\n",
       "       'Instructors', 'Course Subject', 'Year', 'Honor Code Certificates',\n",
       "       'Participants (Course Content Accessed)',\n",
       "       'Audited (> 50% Course Content Accessed)', 'Certified', '% Audited',\n",
       "       '% Certified', '% Certified of > 50% Course Content Accessed',\n",
       "       '% Played Video', '% Posted in Forum', '% Grade Higher Than Zero',\n",
       "       'Total Course Hours (Thousands)', 'Median Hours for Certification',\n",
       "       'Median Age', '% Male', '% Female', '% Bachelor's Degree or Higher'],\n",
       "      dtype='object')"
      ]
     },
     "execution_count": 14,
     "metadata": {},
     "output_type": "execute_result"
    }
   ],
   "source": [
    "data.columns"
   ]
  },
  {
   "cell_type": "code",
   "execution_count": 22,
   "metadata": {
    "collapsed": false
   },
   "outputs": [
    {
     "data": {
      "image/png": "[encoded data removed]",
      "text/plain": [
       "<matplotlib.figure.Figure at 0x11484e8d0>"
      ]
     },
     "metadata": {},
     "output_type": "display_data"
    }
   ],
   "source": [
    "data['Institution'].value_counts().plot.bar()\n",
    "plt.show()"
   ]
  },
  {
   "cell_type": "code",
   "execution_count": 25,
   "metadata": {
    "collapsed": false
   },
   "outputs": [],
   "source": [
    "fig= plt.gcf()\n",
    "subjects=data['Course Subject'].value_counts().index.tolist()"
   ]
  },
  {
   "cell_type": "code",
   "execution_count": 26,
   "metadata": {
    "collapsed": false
   },
   "outputs": [
    {
     "data": {
      "text/plain": [
       "['Humanities, History, Design, Religion, and Education',\n",
       " 'Science, Technology, Engineering, and Mathematics',\n",
       " 'Government, Health, and Social Science',\n",
       " 'Computer Science']"
      ]
     },
     "execution_count": 26,
     "metadata": {},
     "output_type": "execute_result"
    }
   ],
   "source": [
    "subjects"
   ]
  },
  {
   "cell_type": "code",
   "execution_count": 27,
   "metadata": {
    "collapsed": false
   },
   "outputs": [
    {
     "data": {
      "text/plain": [
       "Humanities, History, Design, Religion, and Education    94\n",
       "Science, Technology, Engineering, and Mathematics       91\n",
       "Government, Health, and Social Science                  75\n",
       "Computer Science                                        30\n",
       "Name: Course Subject, dtype: int64"
      ]
     },
     "execution_count": 27,
     "metadata": {},
     "output_type": "execute_result"
    }
   ],
   "source": [
    "data['Course Subject'].value_counts()"
   ]
  },
  {
   "cell_type": "code",
   "execution_count": 28,
   "metadata": {
    "collapsed": true
   },
   "outputs": [],
   "source": [
    "size=data['Course Subject'].value_counts().values.tolist()"
   ]
  },
  {
   "cell_type": "code",
   "execution_count": 36,
   "metadata": {
    "collapsed": false
   },
   "outputs": [
    {
     "data": {
      "image/png": "[encoded data removed]",
      "text/plain": [
       "<matplotlib.figure.Figure at 0x11443e518>"
      ]
     },
     "metadata": {},
     "output_type": "display_data"
    }
   ],
   "source": [
    "plt.pie(size,labels=subjects,explode=(0,0,0,0.1),startangle=90,shadow=True,autopct='%1.1f%%')\n",
    "plt.title('Course Subjects ')\n",
    "fig.set_size_inches((20,12))\n",
    "plt.show()"
   ]
  },
  {
   "cell_type": "code",
   "execution_count": 47,
   "metadata": {
    "collapsed": true
   },
   "outputs": [],
   "source": [
    "Harvard_subjects = data[data[\"Institution\"]=='HarvardX']['Course Subject'].value_counts()"
   ]
  },
  {
   "cell_type": "code",
   "execution_count": 48,
   "metadata": {
    "collapsed": false
   },
   "outputs": [
    {
     "data": {
      "text/plain": [
       "Humanities, History, Design, Religion, and Education    80\n",
       "Government, Health, and Social Science                  37\n",
       "Science, Technology, Engineering, and Mathematics        8\n",
       "Computer Science                                         4\n",
       "Name: Course Subject, dtype: int64"
      ]
     },
     "execution_count": 48,
     "metadata": {},
     "output_type": "execute_result"
    }
   ],
   "source": [
    "Harvard_subjects"
   ]
  },
  {
   "cell_type": "code",
   "execution_count": 49,
   "metadata": {
    "collapsed": true
   },
   "outputs": [],
   "source": [
    "Mit_subjects = data[data[\"Institution\"]=='MITx']['Course Subject'].value_counts()"
   ]
  },
  {
   "cell_type": "code",
   "execution_count": 50,
   "metadata": {
    "collapsed": false
   },
   "outputs": [
    {
     "data": {
      "text/plain": [
       "Science, Technology, Engineering, and Mathematics       83\n",
       "Government, Health, and Social Science                  38\n",
       "Computer Science                                        26\n",
       "Humanities, History, Design, Religion, and Education    14\n",
       "Name: Course Subject, dtype: int64"
      ]
     },
     "execution_count": 50,
     "metadata": {},
     "output_type": "execute_result"
    }
   ],
   "source": [
    "Mit_subjects"
   ]
  },
  {
   "cell_type": "code",
   "execution_count": 55,
   "metadata": {
    "collapsed": true
   },
   "outputs": [],
   "source": [
    "Mit_values=Mit_subjects.values.tolist()\n",
    "Mit_indexes=Mit_subjects.index.tolist()"
   ]
  },
  {
   "cell_type": "code",
   "execution_count": 58,
   "metadata": {
    "collapsed": false
   },
   "outputs": [
    {
     "data": {
      "image/png": "[encoded data removed]",
      "text/plain": [
       "<matplotlib.figure.Figure at 0x11405c2e8>"
      ]
     },
     "metadata": {},
     "output_type": "display_data"
    }
   ],
   "source": [
    "plt.pie(Mit_values,labels=Mit_indexes,startangle=90,shadow=True,autopct='%1.1f%%')\n",
    "plt.title('Mit Subjects ')\n",
    "fig.set_size_inches((20,12))\n",
    "plt.show()"
   ]
  },
  {
   "cell_type": "code",
   "execution_count": 59,
   "metadata": {
    "collapsed": true
   },
   "outputs": [],
   "source": [
    "Harvard_values=Harvard_subjects.values.tolist()\n",
    "Harvard_indexes=Harvard_subjects.index.tolist()"
   ]
  },
  {
   "cell_type": "code",
   "execution_count": 61,
   "metadata": {
    "collapsed": false
   },
   "outputs": [
    {
     "data": {
      "image/png": "[encoded data removed]",
      "text/plain": [
       "<matplotlib.figure.Figure at 0x114458be0>"
      ]
     },
     "metadata": {},
     "output_type": "display_data"
    }
   ],
   "source": [
    "plt.pie(Harvard_values,labels=Harvard_indexes,startangle=90,shadow=True,autopct='%1.1f%%')\n",
    "plt.title('Havard Subjects ')\n",
    "fig.set_size_inches((20,12))\n",
    "plt.show()"
   ]
  },
  {
   "cell_type": "code",
   "execution_count": 62,
   "metadata": {
    "collapsed": true
   },
   "outputs": [],
   "source": [
    "data['Year']= pd.DatetimeIndex(data['Launch Date']).year"
   ]
  },
  {
   "cell_type": "code",
   "execution_count": 66,
   "metadata": {
    "collapsed": false
   },
   "outputs": [
    {
     "data": {
      "image/png": "[encoded data removed]",
      "text/plain": [
       "<matplotlib.figure.Figure at 0x1140547b8>"
      ]
     },
     "metadata": {},
     "output_type": "display_data"
    }
   ],
   "source": [
    "sns.countplot('Year',hue='Institution',data=data)\n",
    "plt.show()"
   ]
  },
  {
   "cell_type": "code",
   "execution_count": null,
   "metadata": {
    "collapsed": true
   },
   "outputs": [],
   "source": []
  }
 ],
 "metadata": {
  "anaconda-cloud": {},
  "kernelspec": {
   "display_name": "Python [default]",
   "language": "python",
   "name": "python3"
  },
  "language_info": {
   "codemirror_mode": {
    "name": "ipython",
    "version": 3
   },
   "file_extension": ".py",
   "mimetype": "text/x-python",
   "name": "python",
   "nbconvert_exporter": "python",
   "pygments_lexer": "ipython3",
   "version": "3.5.2"
  }
 },
 "nbformat": 4,
 "nbformat_minor": 2
}

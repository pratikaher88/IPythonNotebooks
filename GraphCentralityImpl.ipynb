{
 "cells": [
  {
   "cell_type": "code",
   "execution_count": 1,
   "metadata": {
    "collapsed": true
   },
   "outputs": [],
   "source": [
    "import networkx as nx\n",
    "import pandas as pd\n",
    "import matplotlib.pyplot as plt\n",
    "%matplotlib inline"
   ]
  },
  {
   "cell_type": "code",
   "execution_count": 2,
   "metadata": {
    "collapsed": true
   },
   "outputs": [],
   "source": [
    "df=pd.read_csv('paulRevere.txt',index_col='Name')"
   ]
  },
  {
   "cell_type": "code",
   "execution_count": 3,
   "metadata": {
    "collapsed": false
   },
   "outputs": [
    {
     "data": {
      "text/html": [
       "<div>\n",
       "<style>\n",
       "    .dataframe thead tr:only-child th {\n",
       "        text-align: right;\n",
       "    }\n",
       "\n",
       "    .dataframe thead th {\n",
       "        text-align: left;\n",
       "    }\n",
       "\n",
       "    .dataframe tbody tr th {\n",
       "        vertical-align: top;\n",
       "    }\n",
       "</style>\n",
       "<table border=\"1\" class=\"dataframe\">\n",
       "  <thead>\n",
       "    <tr style=\"text-align: right;\">\n",
       "      <th></th>\n",
       "      <th>StAndrewsLodge</th>\n",
       "      <th>LoyalNine</th>\n",
       "      <th>NorthCaucus</th>\n",
       "      <th>LongRoomClub</th>\n",
       "      <th>TeaParty</th>\n",
       "      <th>BostonCommittee</th>\n",
       "      <th>LondonEnemies</th>\n",
       "    </tr>\n",
       "    <tr>\n",
       "      <th>Name</th>\n",
       "      <th></th>\n",
       "      <th></th>\n",
       "      <th></th>\n",
       "      <th></th>\n",
       "      <th></th>\n",
       "      <th></th>\n",
       "      <th></th>\n",
       "    </tr>\n",
       "  </thead>\n",
       "  <tbody>\n",
       "    <tr>\n",
       "      <th>Adams.John</th>\n",
       "      <td>0</td>\n",
       "      <td>0</td>\n",
       "      <td>1</td>\n",
       "      <td>1</td>\n",
       "      <td>0</td>\n",
       "      <td>0</td>\n",
       "      <td>0</td>\n",
       "    </tr>\n",
       "    <tr>\n",
       "      <th>Adams.Samuel</th>\n",
       "      <td>0</td>\n",
       "      <td>0</td>\n",
       "      <td>1</td>\n",
       "      <td>1</td>\n",
       "      <td>0</td>\n",
       "      <td>1</td>\n",
       "      <td>1</td>\n",
       "    </tr>\n",
       "    <tr>\n",
       "      <th>Allen.Dr</th>\n",
       "      <td>0</td>\n",
       "      <td>0</td>\n",
       "      <td>1</td>\n",
       "      <td>0</td>\n",
       "      <td>0</td>\n",
       "      <td>0</td>\n",
       "      <td>0</td>\n",
       "    </tr>\n",
       "    <tr>\n",
       "      <th>Appleton.Nathaniel</th>\n",
       "      <td>0</td>\n",
       "      <td>0</td>\n",
       "      <td>1</td>\n",
       "      <td>0</td>\n",
       "      <td>0</td>\n",
       "      <td>1</td>\n",
       "      <td>0</td>\n",
       "    </tr>\n",
       "    <tr>\n",
       "      <th>Ash.Gilbert</th>\n",
       "      <td>1</td>\n",
       "      <td>0</td>\n",
       "      <td>0</td>\n",
       "      <td>0</td>\n",
       "      <td>0</td>\n",
       "      <td>0</td>\n",
       "      <td>0</td>\n",
       "    </tr>\n",
       "  </tbody>\n",
       "</table>\n",
       "</div>"
      ],
      "text/plain": [
       "                    StAndrewsLodge  LoyalNine  NorthCaucus  LongRoomClub  \\\n",
       "Name                                                                       \n",
       "Adams.John                       0          0            1             1   \n",
       "Adams.Samuel                     0          0            1             1   \n",
       "Allen.Dr                         0          0            1             0   \n",
       "Appleton.Nathaniel               0          0            1             0   \n",
       "Ash.Gilbert                      1          0            0             0   \n",
       "\n",
       "                    TeaParty  BostonCommittee  LondonEnemies  \n",
       "Name                                                          \n",
       "Adams.John                 0                0              0  \n",
       "Adams.Samuel               0                1              1  \n",
       "Allen.Dr                   0                0              0  \n",
       "Appleton.Nathaniel         0                1              0  \n",
       "Ash.Gilbert                0                0              0  "
      ]
     },
     "execution_count": 3,
     "metadata": {},
     "output_type": "execute_result"
    }
   ],
   "source": [
    "df.head()"
   ]
  },
  {
   "cell_type": "code",
   "execution_count": 4,
   "metadata": {
    "collapsed": false
   },
   "outputs": [
    {
     "data": {
      "text/plain": [
       "(254, 7)"
      ]
     },
     "execution_count": 4,
     "metadata": {},
     "output_type": "execute_result"
    }
   ],
   "source": [
    "df.shape"
   ]
  },
  {
   "cell_type": "code",
   "execution_count": 5,
   "metadata": {
    "collapsed": true
   },
   "outputs": [],
   "source": [
    "people_x_group=df"
   ]
  },
  {
   "cell_type": "code",
   "execution_count": 6,
   "metadata": {
    "collapsed": false
   },
   "outputs": [
    {
     "data": {
      "text/html": [
       "<div>\n",
       "<style>\n",
       "    .dataframe thead tr:only-child th {\n",
       "        text-align: right;\n",
       "    }\n",
       "\n",
       "    .dataframe thead th {\n",
       "        text-align: left;\n",
       "    }\n",
       "\n",
       "    .dataframe tbody tr th {\n",
       "        vertical-align: top;\n",
       "    }\n",
       "</style>\n",
       "<table border=\"1\" class=\"dataframe\">\n",
       "  <thead>\n",
       "    <tr style=\"text-align: right;\">\n",
       "      <th>Name</th>\n",
       "      <th>Adams.John</th>\n",
       "      <th>Adams.Samuel</th>\n",
       "      <th>Allen.Dr</th>\n",
       "      <th>Appleton.Nathaniel</th>\n",
       "      <th>Ash.Gilbert</th>\n",
       "      <th>Austin.Benjamin</th>\n",
       "      <th>Austin.Samuel</th>\n",
       "      <th>Avery.John</th>\n",
       "      <th>Baldwin.Cyrus</th>\n",
       "      <th>Ballard.John</th>\n",
       "      <th>...</th>\n",
       "      <th>Whitwell.William</th>\n",
       "      <th>Williams.Jeremiah</th>\n",
       "      <th>Williams.Jonathan</th>\n",
       "      <th>Williams.Thomas</th>\n",
       "      <th>Willis.Nathaniel</th>\n",
       "      <th>Wingfield.William</th>\n",
       "      <th>Winslow.John</th>\n",
       "      <th>Winthrop.John</th>\n",
       "      <th>Wyeth.Joshua</th>\n",
       "      <th>Young.Thomas</th>\n",
       "    </tr>\n",
       "  </thead>\n",
       "  <tbody>\n",
       "    <tr>\n",
       "      <th>StAndrewsLodge</th>\n",
       "      <td>0</td>\n",
       "      <td>0</td>\n",
       "      <td>0</td>\n",
       "      <td>0</td>\n",
       "      <td>1</td>\n",
       "      <td>0</td>\n",
       "      <td>0</td>\n",
       "      <td>0</td>\n",
       "      <td>0</td>\n",
       "      <td>0</td>\n",
       "      <td>...</td>\n",
       "      <td>0</td>\n",
       "      <td>0</td>\n",
       "      <td>0</td>\n",
       "      <td>0</td>\n",
       "      <td>0</td>\n",
       "      <td>1</td>\n",
       "      <td>0</td>\n",
       "      <td>0</td>\n",
       "      <td>0</td>\n",
       "      <td>0</td>\n",
       "    </tr>\n",
       "    <tr>\n",
       "      <th>LoyalNine</th>\n",
       "      <td>0</td>\n",
       "      <td>0</td>\n",
       "      <td>0</td>\n",
       "      <td>0</td>\n",
       "      <td>0</td>\n",
       "      <td>0</td>\n",
       "      <td>0</td>\n",
       "      <td>1</td>\n",
       "      <td>0</td>\n",
       "      <td>0</td>\n",
       "      <td>...</td>\n",
       "      <td>0</td>\n",
       "      <td>0</td>\n",
       "      <td>0</td>\n",
       "      <td>0</td>\n",
       "      <td>0</td>\n",
       "      <td>0</td>\n",
       "      <td>0</td>\n",
       "      <td>0</td>\n",
       "      <td>0</td>\n",
       "      <td>0</td>\n",
       "    </tr>\n",
       "    <tr>\n",
       "      <th>NorthCaucus</th>\n",
       "      <td>1</td>\n",
       "      <td>1</td>\n",
       "      <td>1</td>\n",
       "      <td>1</td>\n",
       "      <td>0</td>\n",
       "      <td>0</td>\n",
       "      <td>0</td>\n",
       "      <td>0</td>\n",
       "      <td>0</td>\n",
       "      <td>1</td>\n",
       "      <td>...</td>\n",
       "      <td>0</td>\n",
       "      <td>0</td>\n",
       "      <td>0</td>\n",
       "      <td>0</td>\n",
       "      <td>0</td>\n",
       "      <td>0</td>\n",
       "      <td>0</td>\n",
       "      <td>1</td>\n",
       "      <td>0</td>\n",
       "      <td>1</td>\n",
       "    </tr>\n",
       "    <tr>\n",
       "      <th>LongRoomClub</th>\n",
       "      <td>1</td>\n",
       "      <td>1</td>\n",
       "      <td>0</td>\n",
       "      <td>0</td>\n",
       "      <td>0</td>\n",
       "      <td>0</td>\n",
       "      <td>0</td>\n",
       "      <td>0</td>\n",
       "      <td>0</td>\n",
       "      <td>0</td>\n",
       "      <td>...</td>\n",
       "      <td>0</td>\n",
       "      <td>0</td>\n",
       "      <td>0</td>\n",
       "      <td>0</td>\n",
       "      <td>0</td>\n",
       "      <td>0</td>\n",
       "      <td>1</td>\n",
       "      <td>0</td>\n",
       "      <td>0</td>\n",
       "      <td>0</td>\n",
       "    </tr>\n",
       "    <tr>\n",
       "      <th>TeaParty</th>\n",
       "      <td>0</td>\n",
       "      <td>0</td>\n",
       "      <td>0</td>\n",
       "      <td>0</td>\n",
       "      <td>0</td>\n",
       "      <td>0</td>\n",
       "      <td>0</td>\n",
       "      <td>0</td>\n",
       "      <td>0</td>\n",
       "      <td>0</td>\n",
       "      <td>...</td>\n",
       "      <td>0</td>\n",
       "      <td>1</td>\n",
       "      <td>0</td>\n",
       "      <td>1</td>\n",
       "      <td>1</td>\n",
       "      <td>0</td>\n",
       "      <td>0</td>\n",
       "      <td>0</td>\n",
       "      <td>1</td>\n",
       "      <td>1</td>\n",
       "    </tr>\n",
       "    <tr>\n",
       "      <th>BostonCommittee</th>\n",
       "      <td>0</td>\n",
       "      <td>1</td>\n",
       "      <td>0</td>\n",
       "      <td>1</td>\n",
       "      <td>0</td>\n",
       "      <td>0</td>\n",
       "      <td>0</td>\n",
       "      <td>0</td>\n",
       "      <td>0</td>\n",
       "      <td>0</td>\n",
       "      <td>...</td>\n",
       "      <td>0</td>\n",
       "      <td>0</td>\n",
       "      <td>0</td>\n",
       "      <td>0</td>\n",
       "      <td>0</td>\n",
       "      <td>0</td>\n",
       "      <td>0</td>\n",
       "      <td>0</td>\n",
       "      <td>0</td>\n",
       "      <td>1</td>\n",
       "    </tr>\n",
       "    <tr>\n",
       "      <th>LondonEnemies</th>\n",
       "      <td>0</td>\n",
       "      <td>1</td>\n",
       "      <td>0</td>\n",
       "      <td>0</td>\n",
       "      <td>0</td>\n",
       "      <td>1</td>\n",
       "      <td>1</td>\n",
       "      <td>1</td>\n",
       "      <td>1</td>\n",
       "      <td>0</td>\n",
       "      <td>...</td>\n",
       "      <td>1</td>\n",
       "      <td>0</td>\n",
       "      <td>1</td>\n",
       "      <td>0</td>\n",
       "      <td>0</td>\n",
       "      <td>0</td>\n",
       "      <td>0</td>\n",
       "      <td>1</td>\n",
       "      <td>0</td>\n",
       "      <td>0</td>\n",
       "    </tr>\n",
       "  </tbody>\n",
       "</table>\n",
       "<p>7 rows × 254 columns</p>\n",
       "</div>"
      ],
      "text/plain": [
       "Name             Adams.John  Adams.Samuel  Allen.Dr  Appleton.Nathaniel  \\\n",
       "StAndrewsLodge            0             0         0                   0   \n",
       "LoyalNine                 0             0         0                   0   \n",
       "NorthCaucus               1             1         1                   1   \n",
       "LongRoomClub              1             1         0                   0   \n",
       "TeaParty                  0             0         0                   0   \n",
       "BostonCommittee           0             1         0                   1   \n",
       "LondonEnemies             0             1         0                   0   \n",
       "\n",
       "Name             Ash.Gilbert  Austin.Benjamin  Austin.Samuel  Avery.John  \\\n",
       "StAndrewsLodge             1                0              0           0   \n",
       "LoyalNine                  0                0              0           1   \n",
       "NorthCaucus                0                0              0           0   \n",
       "LongRoomClub               0                0              0           0   \n",
       "TeaParty                   0                0              0           0   \n",
       "BostonCommittee            0                0              0           0   \n",
       "LondonEnemies              0                1              1           1   \n",
       "\n",
       "Name             Baldwin.Cyrus  Ballard.John      ...       Whitwell.William  \\\n",
       "StAndrewsLodge               0             0      ...                      0   \n",
       "LoyalNine                    0             0      ...                      0   \n",
       "NorthCaucus                  0             1      ...                      0   \n",
       "LongRoomClub                 0             0      ...                      0   \n",
       "TeaParty                     0             0      ...                      0   \n",
       "BostonCommittee              0             0      ...                      0   \n",
       "LondonEnemies                1             0      ...                      1   \n",
       "\n",
       "Name             Williams.Jeremiah  Williams.Jonathan  Williams.Thomas  \\\n",
       "StAndrewsLodge                   0                  0                0   \n",
       "LoyalNine                        0                  0                0   \n",
       "NorthCaucus                      0                  0                0   \n",
       "LongRoomClub                     0                  0                0   \n",
       "TeaParty                         1                  0                1   \n",
       "BostonCommittee                  0                  0                0   \n",
       "LondonEnemies                    0                  1                0   \n",
       "\n",
       "Name             Willis.Nathaniel  Wingfield.William  Winslow.John  \\\n",
       "StAndrewsLodge                  0                  1             0   \n",
       "LoyalNine                       0                  0             0   \n",
       "NorthCaucus                     0                  0             0   \n",
       "LongRoomClub                    0                  0             1   \n",
       "TeaParty                        1                  0             0   \n",
       "BostonCommittee                 0                  0             0   \n",
       "LondonEnemies                   0                  0             0   \n",
       "\n",
       "Name             Winthrop.John  Wyeth.Joshua  Young.Thomas  \n",
       "StAndrewsLodge               0             0             0  \n",
       "LoyalNine                    0             0             0  \n",
       "NorthCaucus                  1             0             1  \n",
       "LongRoomClub                 0             0             0  \n",
       "TeaParty                     0             1             1  \n",
       "BostonCommittee              0             0             1  \n",
       "LondonEnemies                1             0             0  \n",
       "\n",
       "[7 rows x 254 columns]"
      ]
     },
     "execution_count": 6,
     "metadata": {},
     "output_type": "execute_result"
    }
   ],
   "source": [
    "df.T"
   ]
  },
  {
   "cell_type": "code",
   "execution_count": 7,
   "metadata": {
    "collapsed": true
   },
   "outputs": [],
   "source": [
    "groups_x_people=df.T"
   ]
  },
  {
   "cell_type": "code",
   "execution_count": 8,
   "metadata": {
    "collapsed": true
   },
   "outputs": [],
   "source": [
    "people_adj= people_x_group.dot(groups_x_people)"
   ]
  },
  {
   "cell_type": "code",
   "execution_count": 9,
   "metadata": {
    "collapsed": false
   },
   "outputs": [
    {
     "data": {
      "text/plain": [
       "(254, 254)"
      ]
     },
     "execution_count": 9,
     "metadata": {},
     "output_type": "execute_result"
    }
   ],
   "source": [
    "people_adj.shape"
   ]
  },
  {
   "cell_type": "code",
   "execution_count": 10,
   "metadata": {
    "collapsed": true
   },
   "outputs": [],
   "source": [
    "G=nx.from_numpy_matrix(people_adj.values)\n",
    "G=nx.relabel_nodes(G,dict(enumerate(people_adj.columns)))"
   ]
  },
  {
   "cell_type": "code",
   "execution_count": null,
   "metadata": {
    "collapsed": false
   },
   "outputs": [],
   "source": [
    "plt.figure(figsize=(100,100))\n",
    "pos=nx.spring_layout(G,iterations=500,scale=5,k=3)\n",
    "nx.draw_networkx_labels(G,pos,font_size=8)\n",
    "font={\n",
    "     'color':'k',\n",
    "     'fontweight':'bold',\n",
    "     'fontsize':14}\n",
    "plt.title(\"BOSTON\",font)\n",
    "\n",
    "nx.draw_networkx_nodes(G,pos,node_color='b',alpha=0.4)\n",
    "nx.draw_networkx_edges(G,pos,alpha=0.4,node_size=0,width=0.5,edge_color='k')\n",
    "plt.axis('off')\n",
    "plt.show()"
   ]
  },
  {
   "cell_type": "code",
   "execution_count": null,
   "metadata": {
    "collapsed": true
   },
   "outputs": [],
   "source": []
  }
 ],
 "metadata": {
  "kernelspec": {
   "display_name": "Python [default]",
   "language": "python",
   "name": "python3"
  },
  "language_info": {
   "codemirror_mode": {
    "name": "ipython",
    "version": 3
   },
   "file_extension": ".py",
   "mimetype": "text/x-python",
   "name": "python",
   "nbconvert_exporter": "python",
   "pygments_lexer": "ipython3",
   "version": "3.5.2"
  }
 },
 "nbformat": 4,
 "nbformat_minor": 2
}

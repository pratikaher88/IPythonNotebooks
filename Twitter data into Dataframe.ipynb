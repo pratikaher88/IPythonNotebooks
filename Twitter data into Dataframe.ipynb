{
 "cells": [
  {
   "cell_type": "code",
   "execution_count": 4,
   "metadata": {
    "collapsed": false
   },
   "outputs": [],
   "source": [
    "import pandas as pd\n",
    "df=pd.read_csv('/Users/pratikaher/PycharmProjects/sentimentanalysis/ua.csv')\n",
    "# df = df.drop('column_name', 1)\n",
    "df.columns = ['Date', 'Tweets']\n"
   ]
  },
  {
   "cell_type": "code",
   "execution_count": 6,
   "metadata": {
    "collapsed": true
   },
   "outputs": [],
   "source": [
    "pd.options.display.max_colwidth = 1000"
   ]
  },
  {
   "cell_type": "code",
   "execution_count": 10,
   "metadata": {
    "collapsed": false
   },
   "outputs": [
    {
     "data": {
      "text/html": [
       "<div>\n",
       "<style>\n",
       "    .dataframe thead tr:only-child th {\n",
       "        text-align: right;\n",
       "    }\n",
       "\n",
       "    .dataframe thead th {\n",
       "        text-align: left;\n",
       "    }\n",
       "\n",
       "    .dataframe tbody tr th {\n",
       "        vertical-align: top;\n",
       "    }\n",
       "</style>\n",
       "<table border=\"1\" class=\"dataframe\">\n",
       "  <thead>\n",
       "    <tr style=\"text-align: right;\">\n",
       "      <th></th>\n",
       "      <th>Date</th>\n",
       "      <th>Tweets</th>\n",
       "    </tr>\n",
       "  </thead>\n",
       "  <tbody>\n",
       "    <tr>\n",
       "      <th>0</th>\n",
       "      <td>2017-09-21 07:49:31</td>\n",
       "      <td>b'RT @IamDarkHeaven: Thanks #UnitedAirlines For Reward Miles #bugbounty #whitehat #infosec https://t.co/EXOEq8EwHt'</td>\n",
       "    </tr>\n",
       "    <tr>\n",
       "      <th>1</th>\n",
       "      <td>2017-09-21 07:49:31</td>\n",
       "      <td>b'RT @IamDarkHeaven: Thanks #UnitedAirlines For Reward Miles #bugbounty #whitehat #infosec https://t.co/EXOEq8EwHt'</td>\n",
       "    </tr>\n",
       "    <tr>\n",
       "      <th>2</th>\n",
       "      <td>2017-09-21 07:49:11</td>\n",
       "      <td>b'RT @IamDarkHeaven: Thanks #UnitedAirlines For Reward Miles #bugbounty #whitehat #infosec https://t.co/EXOEq8EwHt'</td>\n",
       "    </tr>\n",
       "    <tr>\n",
       "      <th>3</th>\n",
       "      <td>2017-09-21 07:48:48</td>\n",
       "      <td>b'RT @IamDarkHeaven: Thanks #UnitedAirlines For Reward Miles #bugbounty #whitehat #infosec https://t.co/EXOEq8EwHt'</td>\n",
       "    </tr>\n",
       "    <tr>\n",
       "      <th>4</th>\n",
       "      <td>2017-09-21 07:45:22</td>\n",
       "      <td>b'RT @IamDarkHeaven: Thanks #UnitedAirlines For Reward Miles #bugbounty #whitehat #infosec https://t.co/EXOEq8EwHt'</td>\n",
       "    </tr>\n",
       "    <tr>\n",
       "      <th>5</th>\n",
       "      <td>2017-09-21 07:42:08</td>\n",
       "      <td>b'Thanks #UnitedAirlines For Reward Miles #bugbounty #whitehat #infosec https://t.co/EXOEq8EwHt'</td>\n",
       "    </tr>\n",
       "    <tr>\n",
       "      <th>6</th>\n",
       "      <td>2017-09-21 07:16:18</td>\n",
       "      <td>b'Thought switching to #AmericanAirlines from #UnitedAirlines was a good idea. Wrong. https://t.co/XlM020Gnh7'</td>\n",
       "    </tr>\n",
       "    <tr>\n",
       "      <th>7</th>\n",
       "      <td>2017-09-21 06:49:58</td>\n",
       "      <td>b'Despite @VirginAtlantic launching an anti-#UnitedAirlines advertising campaign too'</td>\n",
       "    </tr>\n",
       "    <tr>\n",
       "      <th>8</th>\n",
       "      <td>2017-09-21 06:38:57</td>\n",
       "      <td>b\"2/2 If you remember, there was a huge uproar on #SocialMedia with users threatening to boycott using #UnitedAirlines. I'm confused...\"</td>\n",
       "    </tr>\n",
       "    <tr>\n",
       "      <th>9</th>\n",
       "      <td>2017-09-21 06:35:25</td>\n",
       "      <td>b\"1/2 When #UnitedAirlines was criticised for\\xc2\\xa0its treatment of a passenger in April, figures reveal the company's profits were unaffected\"</td>\n",
       "    </tr>\n",
       "  </tbody>\n",
       "</table>\n",
       "</div>"
      ],
      "text/plain": [
       "                  Date  \\\n",
       "0  2017-09-21 07:49:31   \n",
       "1  2017-09-21 07:49:31   \n",
       "2  2017-09-21 07:49:11   \n",
       "3  2017-09-21 07:48:48   \n",
       "4  2017-09-21 07:45:22   \n",
       "5  2017-09-21 07:42:08   \n",
       "6  2017-09-21 07:16:18   \n",
       "7  2017-09-21 06:49:58   \n",
       "8  2017-09-21 06:38:57   \n",
       "9  2017-09-21 06:35:25   \n",
       "\n",
       "                                                                                                                                              Tweets  \n",
       "0                                b'RT @IamDarkHeaven: Thanks #UnitedAirlines For Reward Miles #bugbounty #whitehat #infosec https://t.co/EXOEq8EwHt'  \n",
       "1                                b'RT @IamDarkHeaven: Thanks #UnitedAirlines For Reward Miles #bugbounty #whitehat #infosec https://t.co/EXOEq8EwHt'  \n",
       "2                                b'RT @IamDarkHeaven: Thanks #UnitedAirlines For Reward Miles #bugbounty #whitehat #infosec https://t.co/EXOEq8EwHt'  \n",
       "3                                b'RT @IamDarkHeaven: Thanks #UnitedAirlines For Reward Miles #bugbounty #whitehat #infosec https://t.co/EXOEq8EwHt'  \n",
       "4                                b'RT @IamDarkHeaven: Thanks #UnitedAirlines For Reward Miles #bugbounty #whitehat #infosec https://t.co/EXOEq8EwHt'  \n",
       "5                                                   b'Thanks #UnitedAirlines For Reward Miles #bugbounty #whitehat #infosec https://t.co/EXOEq8EwHt'  \n",
       "6                                     b'Thought switching to #AmericanAirlines from #UnitedAirlines was a good idea. Wrong. https://t.co/XlM020Gnh7'  \n",
       "7                                                              b'Despite @VirginAtlantic launching an anti-#UnitedAirlines advertising campaign too'  \n",
       "8           b\"2/2 If you remember, there was a huge uproar on #SocialMedia with users threatening to boycott using #UnitedAirlines. I'm confused...\"  \n",
       "9  b\"1/2 When #UnitedAirlines was criticised for\\xc2\\xa0its treatment of a passenger in April, figures reveal the company's profits were unaffected\"  "
      ]
     },
     "execution_count": 10,
     "metadata": {},
     "output_type": "execute_result"
    }
   ],
   "source": [
    "df.head(10)"
   ]
  },
  {
   "cell_type": "code",
   "execution_count": null,
   "metadata": {
    "collapsed": true
   },
   "outputs": [],
   "source": []
  }
 ],
 "metadata": {
  "anaconda-cloud": {},
  "kernelspec": {
   "display_name": "Python [default]",
   "language": "python",
   "name": "python3"
  },
  "language_info": {
   "codemirror_mode": {
    "name": "ipython",
    "version": 3
   },
   "file_extension": ".py",
   "mimetype": "text/x-python",
   "name": "python",
   "nbconvert_exporter": "python",
   "pygments_lexer": "ipython3",
   "version": "3.5.2"
  }
 },
 "nbformat": 4,
 "nbformat_minor": 2
}

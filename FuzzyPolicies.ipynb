{
 "cells": [
  {
   "cell_type": "code",
   "execution_count": 1,
   "metadata": {
    "collapsed": false
   },
   "outputs": [],
   "source": [
    "import pandas as pd\n",
    "\n",
    "xls_file = pd.ExcelFile('/Users/pratikaher/PycharmProjects/Fuzzy/hospital_data.xls')\n",
    "df = xls_file.parse('Policies')"
   ]
  },
  {
   "cell_type": "code",
   "execution_count": 2,
   "metadata": {
    "collapsed": false
   },
   "outputs": [
    {
     "data": {
      "text/html": [
       "<div>\n",
       "<style>\n",
       "    .dataframe thead tr:only-child th {\n",
       "        text-align: right;\n",
       "    }\n",
       "\n",
       "    .dataframe thead th {\n",
       "        text-align: left;\n",
       "    }\n",
       "\n",
       "    .dataframe tbody tr th {\n",
       "        vertical-align: top;\n",
       "    }\n",
       "</style>\n",
       "<table border=\"1\" class=\"dataframe\">\n",
       "  <thead>\n",
       "    <tr style=\"text-align: right;\">\n",
       "      <th></th>\n",
       "      <th>Patient id</th>\n",
       "      <th>doctor id</th>\n",
       "      <th>category</th>\n",
       "      <th>Access to info</th>\n",
       "      <th>Cant access(for this find good and bad doctor)</th>\n",
       "      <th>Can access(for this find good and bad doctor)</th>\n",
       "    </tr>\n",
       "  </thead>\n",
       "  <tbody>\n",
       "    <tr>\n",
       "      <th>0</th>\n",
       "      <td>1001(Male)</td>\n",
       "      <td>D1</td>\n",
       "      <td>physician</td>\n",
       "      <td>Reg/BP/Sugar/Test Reports</td>\n",
       "      <td>Payment/Mediclaim/Neuro/ortho/eye/tooth</td>\n",
       "      <td>NaN</td>\n",
       "    </tr>\n",
       "    <tr>\n",
       "      <th>1</th>\n",
       "      <td>NaN</td>\n",
       "      <td>D2</td>\n",
       "      <td>Diabetologist</td>\n",
       "      <td>Reg/Sugar/Heart Test</td>\n",
       "      <td>Payment/Mediclaim/Neuro/ortho/eye/tooth</td>\n",
       "      <td>BP</td>\n",
       "    </tr>\n",
       "    <tr>\n",
       "      <th>2</th>\n",
       "      <td>NaN</td>\n",
       "      <td>D3</td>\n",
       "      <td>Dentist</td>\n",
       "      <td>Reg/BP/Sugar/Tooth related</td>\n",
       "      <td>Payment/Mediclaim</td>\n",
       "      <td>neuro/ortho/eye</td>\n",
       "    </tr>\n",
       "    <tr>\n",
       "      <th>3</th>\n",
       "      <td>NaN</td>\n",
       "      <td>D4</td>\n",
       "      <td>Opthalmist</td>\n",
       "      <td>Reg/BP/Sugar/eye related</td>\n",
       "      <td>Payment/Mediclaim</td>\n",
       "      <td>neuro/ortho/tooth</td>\n",
       "    </tr>\n",
       "    <tr>\n",
       "      <th>4</th>\n",
       "      <td>NaN</td>\n",
       "      <td>D5</td>\n",
       "      <td>Radiologist</td>\n",
       "      <td>Reg/BP/Sugar/Test Reports</td>\n",
       "      <td>Payment/Mediclaim/medi by phycisian, neuro, ot...</td>\n",
       "      <td>NaN</td>\n",
       "    </tr>\n",
       "    <tr>\n",
       "      <th>5</th>\n",
       "      <td>NaN</td>\n",
       "      <td>D6</td>\n",
       "      <td>Neurologist</td>\n",
       "      <td>Reg/BP/Sugar/Neuro/Test reports</td>\n",
       "      <td>Payment/Mediclaim/ ortho reports</td>\n",
       "      <td>NaN</td>\n",
       "    </tr>\n",
       "    <tr>\n",
       "      <th>6</th>\n",
       "      <td>NaN</td>\n",
       "      <td>D7</td>\n",
       "      <td>Othropedic</td>\n",
       "      <td>Reg/ Bp/Sugar/Ortho reports</td>\n",
       "      <td>Payment/Mediclaim/ tooth/eye</td>\n",
       "      <td>neuro</td>\n",
       "    </tr>\n",
       "    <tr>\n",
       "      <th>7</th>\n",
       "      <td>NaN</td>\n",
       "      <td>D8</td>\n",
       "      <td>Surgon</td>\n",
       "      <td>Reg/ Bp/Sugar/physician/Test reports</td>\n",
       "      <td>Payment/Mediclaim</td>\n",
       "      <td>neuro</td>\n",
       "    </tr>\n",
       "    <tr>\n",
       "      <th>8</th>\n",
       "      <td>NaN</td>\n",
       "      <td>D9</td>\n",
       "      <td>Anesthetic</td>\n",
       "      <td>Reg/BP/ Sugar/ Physician/Test Reports</td>\n",
       "      <td>Payment/Mediclaim</td>\n",
       "      <td>NaN</td>\n",
       "    </tr>\n",
       "    <tr>\n",
       "      <th>9</th>\n",
       "      <td>NaN</td>\n",
       "      <td>D10</td>\n",
       "      <td>Gynac</td>\n",
       "      <td>Reg</td>\n",
       "      <td>No other information as patient is male</td>\n",
       "      <td>NaN</td>\n",
       "    </tr>\n",
       "    <tr>\n",
       "      <th>10</th>\n",
       "      <td>NaN</td>\n",
       "      <td>D11</td>\n",
       "      <td>Physio</td>\n",
       "      <td>Reg/ BP/ Sugar/ Ortho</td>\n",
       "      <td>Payment/Mediclain</td>\n",
       "      <td>NaN</td>\n",
       "    </tr>\n",
       "  </tbody>\n",
       "</table>\n",
       "</div>"
      ],
      "text/plain": [
       "    Patient id doctor id       category  \\\n",
       "0   1001(Male)        D1      physician   \n",
       "1          NaN        D2  Diabetologist   \n",
       "2          NaN        D3        Dentist   \n",
       "3          NaN        D4     Opthalmist   \n",
       "4          NaN        D5    Radiologist   \n",
       "5          NaN        D6    Neurologist   \n",
       "6          NaN        D7     Othropedic   \n",
       "7          NaN        D8         Surgon   \n",
       "8          NaN        D9     Anesthetic   \n",
       "9          NaN       D10          Gynac   \n",
       "10         NaN       D11         Physio   \n",
       "\n",
       "                           Access to info  \\\n",
       "0               Reg/BP/Sugar/Test Reports   \n",
       "1                    Reg/Sugar/Heart Test   \n",
       "2              Reg/BP/Sugar/Tooth related   \n",
       "3                Reg/BP/Sugar/eye related   \n",
       "4               Reg/BP/Sugar/Test Reports   \n",
       "5         Reg/BP/Sugar/Neuro/Test reports   \n",
       "6             Reg/ Bp/Sugar/Ortho reports   \n",
       "7    Reg/ Bp/Sugar/physician/Test reports   \n",
       "8   Reg/BP/ Sugar/ Physician/Test Reports   \n",
       "9                                     Reg   \n",
       "10                  Reg/ BP/ Sugar/ Ortho   \n",
       "\n",
       "       Cant access(for this find good and bad doctor)  \\\n",
       "0             Payment/Mediclaim/Neuro/ortho/eye/tooth   \n",
       "1             Payment/Mediclaim/Neuro/ortho/eye/tooth   \n",
       "2                                   Payment/Mediclaim   \n",
       "3                                   Payment/Mediclaim   \n",
       "4   Payment/Mediclaim/medi by phycisian, neuro, ot...   \n",
       "5                    Payment/Mediclaim/ ortho reports   \n",
       "6                        Payment/Mediclaim/ tooth/eye   \n",
       "7                                   Payment/Mediclaim   \n",
       "8                                   Payment/Mediclaim   \n",
       "9             No other information as patient is male   \n",
       "10                                  Payment/Mediclain   \n",
       "\n",
       "   Can access(for this find good and bad doctor)  \n",
       "0                                            NaN  \n",
       "1                                             BP  \n",
       "2                                neuro/ortho/eye  \n",
       "3                              neuro/ortho/tooth  \n",
       "4                                            NaN  \n",
       "5                                            NaN  \n",
       "6                                          neuro  \n",
       "7                                          neuro  \n",
       "8                                            NaN  \n",
       "9                                            NaN  \n",
       "10                                           NaN  "
      ]
     },
     "execution_count": 2,
     "metadata": {},
     "output_type": "execute_result"
    }
   ],
   "source": [
    "df"
   ]
  },
  {
   "cell_type": "code",
   "execution_count": 15,
   "metadata": {
    "collapsed": false
   },
   "outputs": [],
   "source": [
    "PhyData=df[df['doctor id'].str.contains('D7')]\n",
    "\n",
    "cant=PhyData['Cant access(for this find good and bad doctor)'].str.split('/').values[0]"
   ]
  },
  {
   "cell_type": "code",
   "execution_count": 16,
   "metadata": {
    "collapsed": false
   },
   "outputs": [],
   "source": [
    "can=df['Can access(for this find good and bad doctor)'].str.split('/').values"
   ]
  },
  {
   "cell_type": "code",
   "execution_count": 17,
   "metadata": {
    "collapsed": false
   },
   "outputs": [
    {
     "data": {
      "text/plain": [
       "array([nan, list(['BP']), list(['neuro', 'ortho', 'eye']),\n",
       "       list(['neuro', 'ortho', 'tooth']), nan, nan, list(['neuro']),\n",
       "       list(['neuro']), nan, nan, nan], dtype=object)"
      ]
     },
     "execution_count": 17,
     "metadata": {},
     "output_type": "execute_result"
    }
   ],
   "source": [
    "can"
   ]
  },
  {
   "cell_type": "code",
   "execution_count": 41,
   "metadata": {
    "collapsed": false
   },
   "outputs": [
    {
     "name": "stdout",
     "output_type": "stream",
     "text": [
      "Payment\n",
      "Mediclaim\n",
      " tooth\n",
      "eye\n",
      "nan\n"
     ]
    },
    {
     "ename": "TypeError",
     "evalue": "'float' object is not iterable",
     "output_type": "error",
     "traceback": [
      "\u001b[0;31m---------------------------------------------------------------------------\u001b[0m",
      "\u001b[0;31mTypeError\u001b[0m                                 Traceback (most recent call last)",
      "\u001b[0;32m<ipython-input-41-6b63870dc848>\u001b[0m in \u001b[0;36m<module>\u001b[0;34m()\u001b[0m\n\u001b[1;32m      3\u001b[0m \u001b[0;32mfor\u001b[0m \u001b[0mvalue\u001b[0m \u001b[0;32min\u001b[0m \u001b[0mcan\u001b[0m\u001b[0;34m:\u001b[0m\u001b[0;34m\u001b[0m\u001b[0m\n\u001b[1;32m      4\u001b[0m     \u001b[0mprint\u001b[0m\u001b[0;34m(\u001b[0m\u001b[0mvalue\u001b[0m\u001b[0;34m)\u001b[0m\u001b[0;34m\u001b[0m\u001b[0m\n\u001b[0;32m----> 5\u001b[0;31m     \u001b[0;32mfor\u001b[0m \u001b[0mtest\u001b[0m \u001b[0;32min\u001b[0m \u001b[0mvalue\u001b[0m\u001b[0;34m:\u001b[0m\u001b[0;34m\u001b[0m\u001b[0m\n\u001b[0m\u001b[1;32m      6\u001b[0m         \u001b[0mprint\u001b[0m\u001b[0;34m(\u001b[0m\u001b[0mtest\u001b[0m\u001b[0;34m)\u001b[0m\u001b[0;34m\u001b[0m\u001b[0m\n\u001b[1;32m      7\u001b[0m \u001b[0;31m#         if value=='BP':\u001b[0m\u001b[0;34m\u001b[0m\u001b[0;34m\u001b[0m\u001b[0m\n",
      "\u001b[0;31mTypeError\u001b[0m: 'float' object is not iterable"
     ]
    }
   ],
   "source": [
    "for value in cant:\n",
    "    print(value)\n",
    "for value in can:\n",
    "    print(value)\n",
    "    if value != ''\n",
    "    for test in value:\n",
    "        print(test)\n",
    "#         if value=='BP':\n",
    "#         print(value)"
   ]
  },
  {
   "cell_type": "code",
   "execution_count": 89,
   "metadata": {
    "collapsed": false
   },
   "outputs": [
    {
     "name": "stdout",
     "output_type": "stream",
     "text": [
      "eye\n",
      "You can consult doctor with ID: D3 who is a Dentist\n"
     ]
    }
   ],
   "source": [
    "for value in cant:\n",
    "    for item, frame in df['Can access(for this find good and bad doctor)'].iteritems():\n",
    "        if pd.notnull(frame):\n",
    "            frame= frame.split('/')\n",
    "            for test in frame:\n",
    "                if value==test:\n",
    "                    print(value)\n",
    "                    consult=df.loc[df['Can access(for this find good and bad doctor)'].str.contains(value,na=0)].index.values\n",
    "                    consult_index=consult.tolist().index(1)\n",
    "                    print(\"You can consult doctor with ID:\",df['doctor id'].get_value(consult_index),\"who is a\",df['category'].get_value(consult_index))"
   ]
  },
  {
   "cell_type": "code",
   "execution_count": null,
   "metadata": {
    "collapsed": true
   },
   "outputs": [],
   "source": []
  }
 ],
 "metadata": {
  "anaconda-cloud": {},
  "kernelspec": {
   "display_name": "Python [default]",
   "language": "python",
   "name": "python3"
  },
  "language_info": {
   "codemirror_mode": {
    "name": "ipython",
    "version": 3
   },
   "file_extension": ".py",
   "mimetype": "text/x-python",
   "name": "python",
   "nbconvert_exporter": "python",
   "pygments_lexer": "ipython3",
   "version": "3.5.2"
  }
 },
 "nbformat": 4,
 "nbformat_minor": 2
}
